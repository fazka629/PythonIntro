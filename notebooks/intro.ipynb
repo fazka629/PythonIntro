{
 "cells": [
  {
   "cell_type": "code",
   "execution_count": 4,
   "metadata": {},
   "outputs": [
    {
     "name": "stdout",
     "output_type": "stream",
     "text": [
      "Hello world! Python 3\n"
     ]
    }
   ],
   "source": [
    "print('Hello world!',end=' ')\n",
    "print('Python 3')\n"
   ]
  },
  {
   "cell_type": "code",
   "execution_count": 6,
   "metadata": {},
   "outputs": [
    {
     "name": "stdout",
     "output_type": "stream",
     "text": [
      "IT AMC TEC\n",
      "IT-AMC-TEC\n"
     ]
    }
   ],
   "source": [
    "print(\"IT\",\"AMC\",\"TEC\")\n",
    "print(\"IT\",\"AMC\",\"TEC\",sep='-')\n"
   ]
  },
  {
   "cell_type": "code",
   "execution_count": 7,
   "metadata": {},
   "outputs": [
    {
     "name": "stdout",
     "output_type": "stream",
     "text": [
      "Python-Java-PHP!\n",
      "IT/AMC/TECH!"
     ]
    }
   ],
   "source": [
    "print('Python','Java','PHP',sep=\"-\",end='!\\n')\n",
    "print(\"IT\",\"AMC\",\"TECH\",sep='/',end='!')\n"
   ]
  },
  {
   "cell_type": "code",
   "execution_count": 9,
   "metadata": {},
   "outputs": [
    {
     "name": "stdout",
     "output_type": "stream",
     "text": [
      "aa\n",
      "***\n",
      "\n",
      "\n"
     ]
    }
   ],
   "source": [
    "print('a' * 2)\n",
    "print(\"*\" * 3,end='\\n' * 3)"
   ]
  },
  {
   "cell_type": "code",
   "execution_count": 1,
   "metadata": {},
   "outputs": [
    {
     "name": "stdout",
     "output_type": "stream",
     "text": [
      "10 5\n"
     ]
    }
   ],
   "source": [
    "a=10\n",
    "b=5\n",
    "print(a,b)\n"
   ]
  },
  {
   "cell_type": "code",
   "execution_count": 2,
   "metadata": {},
   "outputs": [
    {
     "name": "stdout",
     "output_type": "stream",
     "text": [
      "4,4.0,0.4\n"
     ]
    }
   ],
   "source": [
    "a = 4\n",
    "b = 4.\n",
    "c = .4\n",
    "print(a,b,c,sep=',')"
   ]
  },
  {
   "cell_type": "code",
   "execution_count": 3,
   "metadata": {},
   "outputs": [
    {
     "name": "stdout",
     "output_type": "stream",
     "text": [
      "2000000.0\n"
     ]
    }
   ],
   "source": [
    "print(2E6)"
   ]
  },
  {
   "cell_type": "code",
   "execution_count": 6,
   "metadata": {},
   "outputs": [
    {
     "name": "stdout",
     "output_type": "stream",
     "text": [
      "True False\n"
     ]
    }
   ],
   "source": [
    "a = True\n",
    "b = False\n",
    "print(a,b)"
   ]
  },
  {
   "cell_type": "code",
   "execution_count": 8,
   "metadata": {},
   "outputs": [
    {
     "name": "stdout",
     "output_type": "stream",
     "text": [
      "Python\n",
      "P\n"
     ]
    }
   ],
   "source": [
    "subject = 'Python'\n",
    "print(subject)\n",
    "print(subject[0])"
   ]
  },
  {
   "cell_type": "code",
   "execution_count": 9,
   "metadata": {},
   "outputs": [
    {
     "name": "stdout",
     "output_type": "stream",
     "text": [
      "8.0,3.6,0.4\n",
      "8.0\n"
     ]
    }
   ],
   "source": [
    "a = 4\n",
    "b = 4.\n",
    "c = .4\n",
    "print(a+b,b-c,c,sep=',')\n",
    "print (2 ** 3.)"
   ]
  },
  {
   "cell_type": "code",
   "execution_count": 11,
   "metadata": {},
   "outputs": [
    {
     "name": "stdout",
     "output_type": "stream",
     "text": [
      "1.5\n",
      "1\n"
     ]
    }
   ],
   "source": [
    "a = 6\n",
    "b = 4\n",
    "print(a / b)\n",
    "print(a // b)"
   ]
  },
  {
   "cell_type": "code",
   "execution_count": 14,
   "metadata": {},
   "outputs": [
    {
     "name": "stdout",
     "output_type": "stream",
     "text": [
      "17\n",
      "25\n"
     ]
    }
   ],
   "source": [
    "print(2 + 3 * 5)\n",
    "print((2 + 3) * 5)"
   ]
  },
  {
   "cell_type": "code",
   "execution_count": null,
   "metadata": {},
   "outputs": [],
   "source": []
  }
 ],
 "metadata": {
  "kernelspec": {
   "display_name": "Python 3",
   "language": "python",
   "name": "python3"
  },
  "language_info": {
   "codemirror_mode": {
    "name": "ipython",
    "version": 3
   },
   "file_extension": ".py",
   "mimetype": "text/x-python",
   "name": "python",
   "nbconvert_exporter": "python",
   "pygments_lexer": "ipython3",
   "version": "3.10.13"
  }
 },
 "nbformat": 4,
 "nbformat_minor": 2
}
